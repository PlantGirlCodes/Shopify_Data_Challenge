{
 "cells": [
  {
   "cell_type": "markdown",
   "id": "b04b4c84",
   "metadata": {},
   "source": [
    "## Shopify Data Challenge\n",
    "#### Question 1: Given some sample data, write a program to answer the following: click here to access the required data set\n",
    "* On Shopify, we have exactly 100 sneaker shops, and each of these shops sells only one model of shoe. We want to do some analysis of the average order value (AOV). When we look at orders data over a 30 day window, we naively calculate an AOV of $3145.13. Given that we know these shops are selling sneakers, a relatively affordable item, something seems wrong with our analysis.\n",
    "#### Think about what could be going wrong with our calculation.\n",
    "* Think about a better way to evaluate this data.\n",
    "* What metric would you report for this dataset?\n",
    "* What is its value?"
   ]
  },
  {
   "cell_type": "code",
   "execution_count": 39,
   "id": "cd117f06",
   "metadata": {},
   "outputs": [],
   "source": [
    "import pandas as pd\n",
    "import numpy as np\n",
    "import matplotlib.pyplot as plt\n",
    "import seaborn as sns"
   ]
  },
  {
   "cell_type": "code",
   "execution_count": 3,
   "id": "4b58cb65",
   "metadata": {},
   "outputs": [],
   "source": [
    "path = ('/Users/fc-127/Desktop/data/2019 Winter Data Science Intern Challenge Data Set - Sheet1.csv')"
   ]
  },
  {
   "cell_type": "code",
   "execution_count": 5,
   "id": "1d093647",
   "metadata": {},
   "outputs": [],
   "source": [
    "df = pd.read_csv(path)"
   ]
  },
  {
   "cell_type": "code",
   "execution_count": 6,
   "id": "53e1d3a0",
   "metadata": {},
   "outputs": [
    {
     "data": {
      "text/html": [
       "<div>\n",
       "<style scoped>\n",
       "    .dataframe tbody tr th:only-of-type {\n",
       "        vertical-align: middle;\n",
       "    }\n",
       "\n",
       "    .dataframe tbody tr th {\n",
       "        vertical-align: top;\n",
       "    }\n",
       "\n",
       "    .dataframe thead th {\n",
       "        text-align: right;\n",
       "    }\n",
       "</style>\n",
       "<table border=\"1\" class=\"dataframe\">\n",
       "  <thead>\n",
       "    <tr style=\"text-align: right;\">\n",
       "      <th></th>\n",
       "      <th>order_id</th>\n",
       "      <th>shop_id</th>\n",
       "      <th>user_id</th>\n",
       "      <th>order_amount</th>\n",
       "      <th>total_items</th>\n",
       "      <th>payment_method</th>\n",
       "      <th>created_at</th>\n",
       "    </tr>\n",
       "  </thead>\n",
       "  <tbody>\n",
       "    <tr>\n",
       "      <th>0</th>\n",
       "      <td>1</td>\n",
       "      <td>53</td>\n",
       "      <td>746</td>\n",
       "      <td>224</td>\n",
       "      <td>2</td>\n",
       "      <td>cash</td>\n",
       "      <td>2017-03-13 12:36:56</td>\n",
       "    </tr>\n",
       "    <tr>\n",
       "      <th>1</th>\n",
       "      <td>2</td>\n",
       "      <td>92</td>\n",
       "      <td>925</td>\n",
       "      <td>90</td>\n",
       "      <td>1</td>\n",
       "      <td>cash</td>\n",
       "      <td>2017-03-03 17:38:52</td>\n",
       "    </tr>\n",
       "    <tr>\n",
       "      <th>2</th>\n",
       "      <td>3</td>\n",
       "      <td>44</td>\n",
       "      <td>861</td>\n",
       "      <td>144</td>\n",
       "      <td>1</td>\n",
       "      <td>cash</td>\n",
       "      <td>2017-03-14 4:23:56</td>\n",
       "    </tr>\n",
       "    <tr>\n",
       "      <th>3</th>\n",
       "      <td>4</td>\n",
       "      <td>18</td>\n",
       "      <td>935</td>\n",
       "      <td>156</td>\n",
       "      <td>1</td>\n",
       "      <td>credit_card</td>\n",
       "      <td>2017-03-26 12:43:37</td>\n",
       "    </tr>\n",
       "    <tr>\n",
       "      <th>4</th>\n",
       "      <td>5</td>\n",
       "      <td>18</td>\n",
       "      <td>883</td>\n",
       "      <td>156</td>\n",
       "      <td>1</td>\n",
       "      <td>credit_card</td>\n",
       "      <td>2017-03-01 4:35:11</td>\n",
       "    </tr>\n",
       "  </tbody>\n",
       "</table>\n",
       "</div>"
      ],
      "text/plain": [
       "   order_id  shop_id  user_id  order_amount  total_items payment_method  \\\n",
       "0         1       53      746           224            2           cash   \n",
       "1         2       92      925            90            1           cash   \n",
       "2         3       44      861           144            1           cash   \n",
       "3         4       18      935           156            1    credit_card   \n",
       "4         5       18      883           156            1    credit_card   \n",
       "\n",
       "            created_at  \n",
       "0  2017-03-13 12:36:56  \n",
       "1  2017-03-03 17:38:52  \n",
       "2   2017-03-14 4:23:56  \n",
       "3  2017-03-26 12:43:37  \n",
       "4   2017-03-01 4:35:11  "
      ]
     },
     "execution_count": 6,
     "metadata": {},
     "output_type": "execute_result"
    }
   ],
   "source": [
    "df.head()"
   ]
  },
  {
   "cell_type": "markdown",
   "id": "75bc57d9",
   "metadata": {},
   "source": [
    "Quick EDA "
   ]
  },
  {
   "cell_type": "code",
   "execution_count": 30,
   "id": "4c1a3bfa",
   "metadata": {
    "scrolled": true
   },
   "outputs": [
    {
     "name": "stdout",
     "output_type": "stream",
     "text": [
      "<class 'pandas.core.frame.DataFrame'>\n",
      "RangeIndex: 5000 entries, 0 to 4999\n",
      "Data columns (total 7 columns):\n",
      " #   Column          Non-Null Count  Dtype \n",
      "---  ------          --------------  ----- \n",
      " 0   order_id        5000 non-null   int64 \n",
      " 1   shop_id         5000 non-null   int64 \n",
      " 2   user_id         5000 non-null   int64 \n",
      " 3   order_amount    5000 non-null   int64 \n",
      " 4   total_items     5000 non-null   int64 \n",
      " 5   payment_method  5000 non-null   object\n",
      " 6   created_at      5000 non-null   object\n",
      "dtypes: int64(5), object(2)\n",
      "memory usage: 273.6+ KB\n"
     ]
    }
   ],
   "source": [
    "df.info()"
   ]
  },
  {
   "cell_type": "markdown",
   "id": "5a7d1d55",
   "metadata": {},
   "source": [
    "confirm no nulls and datatypes are appropriate"
   ]
  },
  {
   "cell_type": "code",
   "execution_count": 9,
   "id": "20f84677",
   "metadata": {},
   "outputs": [
    {
     "data": {
      "text/plain": [
       "(5000, 7)"
      ]
     },
     "execution_count": 9,
     "metadata": {},
     "output_type": "execute_result"
    }
   ],
   "source": [
    "df.shape"
   ]
  },
  {
   "cell_type": "markdown",
   "id": "1c0cc408",
   "metadata": {},
   "source": [
    "5000 rows, 7 columns"
   ]
  },
  {
   "cell_type": "code",
   "execution_count": 11,
   "id": "5e203663",
   "metadata": {},
   "outputs": [
    {
     "data": {
      "text/plain": [
       "'2017-03-01 0:08:09'"
      ]
     },
     "execution_count": 11,
     "metadata": {},
     "output_type": "execute_result"
    }
   ],
   "source": [
    "df.created_at.min()\n"
   ]
  },
  {
   "cell_type": "code",
   "execution_count": 12,
   "id": "6b26e588",
   "metadata": {},
   "outputs": [
    {
     "data": {
      "text/plain": [
       "'2017-03-30 9:55:00'"
      ]
     },
     "execution_count": 12,
     "metadata": {},
     "output_type": "execute_result"
    }
   ],
   "source": [
    "df.created_at.max()"
   ]
  },
  {
   "cell_type": "markdown",
   "id": "15969565",
   "metadata": {},
   "source": [
    "confirm: over a \"30 day window\" \n",
    "identify: the 30 day period of the data: March 1- March 30 2017"
   ]
  },
  {
   "cell_type": "code",
   "execution_count": 17,
   "id": "211865f8",
   "metadata": {},
   "outputs": [
    {
     "data": {
      "text/plain": [
       "100"
      ]
     },
     "execution_count": 17,
     "metadata": {},
     "output_type": "execute_result"
    }
   ],
   "source": [
    "df.shop_id.nunique()"
   ]
  },
  {
   "cell_type": "markdown",
   "id": "7a5055e2",
   "metadata": {},
   "source": [
    "confirm: \"we have exactly 100 sneaker shops\""
   ]
  },
  {
   "cell_type": "code",
   "execution_count": 16,
   "id": "4127b01a",
   "metadata": {},
   "outputs": [
    {
     "data": {
      "text/plain": [
       "count      5000.000000\n",
       "mean       3145.128000\n",
       "std       41282.539349\n",
       "min          90.000000\n",
       "25%         163.000000\n",
       "50%         284.000000\n",
       "75%         390.000000\n",
       "max      704000.000000\n",
       "Name: order_amount, dtype: float64"
      ]
     },
     "execution_count": 16,
     "metadata": {},
     "output_type": "execute_result"
    }
   ],
   "source": [
    "df.order_amount.describe()"
   ]
  },
  {
   "cell_type": "markdown",
   "id": "a6de7116",
   "metadata": {},
   "source": [
    "From .describe on order_amount column:\n",
    "* we can identify the source of AOV (average order value): 3145.13\n",
    "* mean across the entire dataset for value of order amounts\n",
    "* can see outliers in max: 704000 \n",
    "* std too high: meaning distribution of values very far from the mean\n",
    "* 75 percent of of the values are under 390: \n",
    "* which again confirms that AOV of 3145 is off \n",
    "* we can deduct that data is NOT normally distributed \n",
    "* suggestion: choose a more approriate metric in the short term \n",
    "* median which is an alternate measure of central tendency\n",
    "* more robust and less affected by the outliers in our dataset\n"
   ]
  },
  {
   "cell_type": "code",
   "execution_count": 36,
   "id": "9e9b2e13",
   "metadata": {},
   "outputs": [
    {
     "data": {
      "text/plain": [
       "2       1832\n",
       "1       1830\n",
       "3        941\n",
       "4        293\n",
       "5         77\n",
       "2000      17\n",
       "6          9\n",
       "8          1\n",
       "Name: total_items, dtype: int64"
      ]
     },
     "execution_count": 36,
     "metadata": {},
     "output_type": "execute_result"
    }
   ],
   "source": [
    "df.total_items.value_counts()"
   ]
  },
  {
   "cell_type": "markdown",
   "id": "7d728bc5",
   "metadata": {},
   "source": [
    "confirm source of outliers\n",
    "* while the mjority of transactions involve transactiosn with 1 and 2 items \n",
    "* 17 rows have transactions of 2000 items which contributed to outliers * reseulting in max transaction amount $704,000 - not a good AOV for sneaker shop"
   ]
  },
  {
   "cell_type": "code",
   "execution_count": 40,
   "id": "03e19de6",
   "metadata": {},
   "outputs": [
    {
     "data": {
      "text/plain": [
       "284.0"
      ]
     },
     "execution_count": 40,
     "metadata": {},
     "output_type": "execute_result"
    }
   ],
   "source": [
    "df.order_amount.median()\n"
   ]
  },
  {
   "cell_type": "markdown",
   "id": "0c01f275",
   "metadata": {},
   "source": [
    "## What metric would you report for this dataset?\n",
    "* median\n",
    "## What is its value? \n",
    "*  $284"
   ]
  },
  {
   "cell_type": "code",
   "execution_count": null,
   "id": "8d3f1565",
   "metadata": {},
   "outputs": [],
   "source": []
  },
  {
   "cell_type": "code",
   "execution_count": null,
   "id": "e699dcec",
   "metadata": {},
   "outputs": [],
   "source": []
  }
 ],
 "metadata": {
  "kernelspec": {
   "display_name": "Python 3 (ipykernel)",
   "language": "python",
   "name": "python3"
  },
  "language_info": {
   "codemirror_mode": {
    "name": "ipython",
    "version": 3
   },
   "file_extension": ".py",
   "mimetype": "text/x-python",
   "name": "python",
   "nbconvert_exporter": "python",
   "pygments_lexer": "ipython3",
   "version": "3.9.7"
  }
 },
 "nbformat": 4,
 "nbformat_minor": 5
}
